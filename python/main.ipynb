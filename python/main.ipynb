{
  "nbformat": 4,
  "nbformat_minor": 0,
  "metadata": {
    "colab": {
      "name": "Perishably.ipynb",
      "provenance": [],
      "collapsed_sections": []
    },
    "kernelspec": {
      "name": "python3",
      "display_name": "Python 3"
    },
    "language_info": {
      "name": "python"
    },
    "accelerator": "GPU"
  },
  "cells": [
    {
      "cell_type": "code",
      "source": [
        "# Import Libraries\n",
        "from __future__ import absolute_import, division, print_function, unicode_literals\n",
        "import matplotlib.pyplot as plt\n",
        "import os\n",
        "import zipfile\n",
        "import csv\n",
        "from tensorflow import keras\n",
        "import tensorflow as tf\n",
        "import os\n",
        "import numpy as np\n",
        "import matplotlib.pyplot as plt\n",
        "import tensorflow_hub as hub\n",
        "import pandas as pd"
      ],
      "metadata": {
        "id": "fFFTaqPsNAG_"
      },
      "execution_count": 10,
      "outputs": []
    },
    {
      "cell_type": "code",
      "source": [
        "# Extract the dataset\n",
        "with zipfile.ZipFile('/content/fruits.zip', 'r') as zip_ref:\n",
        "    zip_ref.extractall('/content/data/')"
      ],
      "metadata": {
        "id": "XiOI8gQiPRG4"
      },
      "execution_count": 11,
      "outputs": []
    },
    {
      "cell_type": "code",
      "source": [
        "# Increase precision of presented data for better side-by-side comparison\n",
        "pd.set_option(\"display.precision\", 8)\n",
        "data_root = ('/content/data/fruits')\n",
        "tf.config.optimizer.set_jit(True)\n",
        "IMAGE_SHAPE = (224, 224)\n",
        "TRAINING_DATA_DIR = str(data_root)"
      ],
      "metadata": {
        "id": "LW22J-_8NQVd"
      },
      "execution_count": 12,
      "outputs": []
    },
    {
      "cell_type": "code",
      "source": [
        "# Intialise Validation Set\n",
        "datagen_kwargs = dict(rescale=1./255, validation_split=0.10)\n",
        "valid_datagen = keras.preprocessing.image.ImageDataGenerator(**datagen_kwargs)\n",
        "valid_generator = valid_datagen.flow_from_directory(\n",
        "    TRAINING_DATA_DIR,\n",
        "    subset=\"validation\",\n",
        "    shuffle=True,\n",
        "    target_size=IMAGE_SHAPE\n",
        ")"
      ],
      "metadata": {
        "colab": {
          "base_uri": "https://localhost:8080/"
        },
        "id": "Jb3U7_ZnNYEh",
        "outputId": "ccc8b520-5c53-4ede-d7db-4ffd2d6ef978"
      },
      "execution_count": 13,
      "outputs": [
        {
          "output_type": "stream",
          "name": "stdout",
          "text": [
            "Found 463 images belonging to 5 classes.\n"
          ]
        }
      ]
    },
    {
      "cell_type": "code",
      "source": [
        "# Initialise Training Set\n",
        "train_datagen = keras.preprocessing.image.ImageDataGenerator(**datagen_kwargs)\n",
        "train_generator = train_datagen.flow_from_directory(\n",
        "    TRAINING_DATA_DIR,\n",
        "    subset=\"training\",\n",
        "    shuffle=True,\n",
        "    target_size=IMAGE_SHAPE)"
      ],
      "metadata": {
        "colab": {
          "base_uri": "https://localhost:8080/"
        },
        "id": "O84F6ptoNi3f",
        "outputId": "92a00131-2d66-4b2e-a37d-9cb836b19dbb"
      },
      "execution_count": 14,
      "outputs": [
        {
          "output_type": "stream",
          "name": "stdout",
          "text": [
            "Found 4190 images belonging to 5 classes.\n"
          ]
        }
      ]
    },
    {
      "cell_type": "code",
      "source": [
        "# Intialise labels\n",
        "for image_batch, label_batch in train_generator:\n",
        "  break\n",
        "image_batch.shape, label_batch.shape\n",
        "print (train_generator.class_indices)\n",
        "\n",
        "labels = '\\n'.join(sorted(train_generator.class_indices.keys()))\n",
        "\n",
        "with open('labels.txt', 'w') as f:\n",
        "  f.write(labels)"
      ],
      "metadata": {
        "colab": {
          "base_uri": "https://localhost:8080/"
        },
        "id": "QbMYtLkPNvVy",
        "outputId": "e50fa0d4-814c-46f7-e08c-9cc75ec90d5c"
      },
      "execution_count": 15,
      "outputs": [
        {
          "output_type": "stream",
          "name": "stdout",
          "text": [
            "{'apple': 0, 'banana': 1, 'mango': 2, 'peach': 3, 'pear': 4}\n"
          ]
        }
      ]
    },
    {
      "cell_type": "code",
      "source": [
        "# Build the model\n",
        "IMAGE_SIZE = 224\n",
        "\n",
        "model = keras.Sequential([\n",
        "  hub.KerasLayer(\"https://tfhub.dev/google/imagenet/mobilenet_v2_100_224/feature_vector/4\",\n",
        "                 output_shape=[1280],\n",
        "                 trainable=False,\n",
        "                 ),\n",
        "  #keras.layers.Dropout(0.4),\n",
        "  tf.keras.layers.Dense(train_generator.num_classes, activation='softmax')\n",
        "])\n",
        "\n",
        "model.build([None,224,224,3])\n",
        "\n",
        "model.summary()"
      ],
      "metadata": {
        "colab": {
          "base_uri": "https://localhost:8080/"
        },
        "id": "r_cXketyODKN",
        "outputId": "66662f50-a900-436a-e6b3-a14307f2889d"
      },
      "execution_count": 16,
      "outputs": [
        {
          "output_type": "stream",
          "name": "stdout",
          "text": [
            "Model: \"sequential_1\"\n",
            "_________________________________________________________________\n",
            " Layer (type)                Output Shape              Param #   \n",
            "=================================================================\n",
            " keras_layer_1 (KerasLayer)  (None, 1280)              2257984   \n",
            "                                                                 \n",
            " dense_1 (Dense)             (None, 5)                 6405      \n",
            "                                                                 \n",
            "=================================================================\n",
            "Total params: 2,264,389\n",
            "Trainable params: 6,405\n",
            "Non-trainable params: 2,257,984\n",
            "_________________________________________________________________\n"
          ]
        }
      ]
    },
    {
      "cell_type": "code",
      "source": [
        "# Compile the model\n",
        "optimizer = keras.optimizers.Adam(learning_rate=3e-4) #1e-3, 3e-4\n",
        "\n",
        "model.compile(\n",
        "  optimizer=optimizer,\n",
        "  loss= 'categorical_crossentropy',\n",
        "  metrics=['accuracy']\n",
        "  )"
      ],
      "metadata": {
        "id": "vLcuV6oYONuk"
      },
      "execution_count": 17,
      "outputs": []
    },
    {
      "cell_type": "code",
      "source": [
        "# Fit the model\n",
        "steps_per_epoch = np.ceil(train_generator.samples/train_generator.batch_size)\n",
        "val_steps_per_epoch = np.ceil(valid_generator.samples/valid_generator.batch_size)\n",
        "\n",
        "history = model.fit(train_generator,\n",
        "                    steps_per_epoch=steps_per_epoch,\n",
        "                    epochs=40,\n",
        "                    validation_data=valid_generator,\n",
        "                    validation_steps= val_steps_per_epoch,\n",
        "                    verbose=1\n",
        "                    )"
      ],
      "metadata": {
        "id": "xviMgFyYOcSe",
        "colab": {
          "base_uri": "https://localhost:8080/"
        },
        "outputId": "69a29faa-09d6-435b-a4ac-839bb2159e7d"
      },
      "execution_count": 18,
      "outputs": [
        {
          "output_type": "stream",
          "name": "stdout",
          "text": [
            "Epoch 1/40\n",
            "131/131 [==============================] - 25s 142ms/step - loss: 1.3396 - accuracy: 0.4575 - val_loss: 0.9837 - val_accuracy: 0.6609\n",
            "Epoch 2/40\n",
            "131/131 [==============================] - 25s 187ms/step - loss: 0.8841 - accuracy: 0.7002 - val_loss: 0.7526 - val_accuracy: 0.7473\n",
            "Epoch 3/40\n",
            "131/131 [==============================] - 14s 110ms/step - loss: 0.6955 - accuracy: 0.7709 - val_loss: 0.6407 - val_accuracy: 0.7689\n",
            "Epoch 4/40\n",
            "131/131 [==============================] - 14s 110ms/step - loss: 0.5918 - accuracy: 0.8088 - val_loss: 0.5663 - val_accuracy: 0.7927\n",
            "Epoch 5/40\n",
            "131/131 [==============================] - 14s 109ms/step - loss: 0.5260 - accuracy: 0.8274 - val_loss: 0.5173 - val_accuracy: 0.8164\n",
            "Epoch 6/40\n",
            "131/131 [==============================] - 14s 109ms/step - loss: 0.4797 - accuracy: 0.8418 - val_loss: 0.4855 - val_accuracy: 0.8207\n",
            "Epoch 7/40\n",
            "131/131 [==============================] - 14s 110ms/step - loss: 0.4446 - accuracy: 0.8535 - val_loss: 0.4562 - val_accuracy: 0.8294\n",
            "Epoch 8/40\n",
            "131/131 [==============================] - 16s 122ms/step - loss: 0.4176 - accuracy: 0.8623 - val_loss: 0.4365 - val_accuracy: 0.8359\n",
            "Epoch 9/40\n",
            "131/131 [==============================] - 15s 110ms/step - loss: 0.3943 - accuracy: 0.8680 - val_loss: 0.4168 - val_accuracy: 0.8402\n",
            "Epoch 10/40\n",
            "131/131 [==============================] - 14s 110ms/step - loss: 0.3749 - accuracy: 0.8761 - val_loss: 0.4074 - val_accuracy: 0.8423\n",
            "Epoch 11/40\n",
            "131/131 [==============================] - 14s 110ms/step - loss: 0.3587 - accuracy: 0.8780 - val_loss: 0.3990 - val_accuracy: 0.8467\n",
            "Epoch 12/40\n",
            "131/131 [==============================] - 14s 110ms/step - loss: 0.3446 - accuracy: 0.8826 - val_loss: 0.3852 - val_accuracy: 0.8445\n",
            "Epoch 13/40\n",
            "131/131 [==============================] - 14s 108ms/step - loss: 0.3318 - accuracy: 0.8874 - val_loss: 0.3737 - val_accuracy: 0.8531\n",
            "Epoch 14/40\n",
            "131/131 [==============================] - 14s 108ms/step - loss: 0.3198 - accuracy: 0.8926 - val_loss: 0.3713 - val_accuracy: 0.8510\n",
            "Epoch 15/40\n",
            "131/131 [==============================] - 14s 109ms/step - loss: 0.3097 - accuracy: 0.8959 - val_loss: 0.3600 - val_accuracy: 0.8510\n",
            "Epoch 16/40\n",
            "131/131 [==============================] - 15s 115ms/step - loss: 0.3000 - accuracy: 0.8995 - val_loss: 0.3562 - val_accuracy: 0.8531\n",
            "Epoch 17/40\n",
            "131/131 [==============================] - 14s 109ms/step - loss: 0.2908 - accuracy: 0.9036 - val_loss: 0.3471 - val_accuracy: 0.8575\n",
            "Epoch 18/40\n",
            "131/131 [==============================] - 14s 107ms/step - loss: 0.2827 - accuracy: 0.9062 - val_loss: 0.3483 - val_accuracy: 0.8575\n",
            "Epoch 19/40\n",
            "131/131 [==============================] - 14s 107ms/step - loss: 0.2748 - accuracy: 0.9086 - val_loss: 0.3367 - val_accuracy: 0.8726\n",
            "Epoch 20/40\n",
            "131/131 [==============================] - 14s 107ms/step - loss: 0.2676 - accuracy: 0.9117 - val_loss: 0.3362 - val_accuracy: 0.8661\n",
            "Epoch 21/40\n",
            "131/131 [==============================] - 15s 116ms/step - loss: 0.2616 - accuracy: 0.9143 - val_loss: 0.3318 - val_accuracy: 0.8726\n",
            "Epoch 22/40\n",
            "131/131 [==============================] - 14s 109ms/step - loss: 0.2553 - accuracy: 0.9167 - val_loss: 0.3270 - val_accuracy: 0.8704\n",
            "Epoch 23/40\n",
            "131/131 [==============================] - 14s 107ms/step - loss: 0.2494 - accuracy: 0.9200 - val_loss: 0.3273 - val_accuracy: 0.8747\n",
            "Epoch 24/40\n",
            "131/131 [==============================] - 14s 107ms/step - loss: 0.2435 - accuracy: 0.9210 - val_loss: 0.3187 - val_accuracy: 0.8769\n",
            "Epoch 25/40\n",
            "131/131 [==============================] - 14s 107ms/step - loss: 0.2375 - accuracy: 0.9241 - val_loss: 0.3191 - val_accuracy: 0.8769\n",
            "Epoch 26/40\n",
            "131/131 [==============================] - 16s 125ms/step - loss: 0.2330 - accuracy: 0.9270 - val_loss: 0.3155 - val_accuracy: 0.8790\n",
            "Epoch 27/40\n",
            "131/131 [==============================] - 14s 108ms/step - loss: 0.2278 - accuracy: 0.9279 - val_loss: 0.3105 - val_accuracy: 0.8855\n",
            "Epoch 28/40\n",
            "131/131 [==============================] - 14s 107ms/step - loss: 0.2232 - accuracy: 0.9301 - val_loss: 0.3118 - val_accuracy: 0.8877\n",
            "Epoch 29/40\n",
            "131/131 [==============================] - 14s 107ms/step - loss: 0.2188 - accuracy: 0.9332 - val_loss: 0.3078 - val_accuracy: 0.8877\n",
            "Epoch 30/40\n",
            "131/131 [==============================] - 14s 107ms/step - loss: 0.2142 - accuracy: 0.9317 - val_loss: 0.3049 - val_accuracy: 0.8877\n",
            "Epoch 31/40\n",
            "131/131 [==============================] - 14s 109ms/step - loss: 0.2102 - accuracy: 0.9344 - val_loss: 0.3052 - val_accuracy: 0.8942\n",
            "Epoch 32/40\n",
            "131/131 [==============================] - 14s 109ms/step - loss: 0.2061 - accuracy: 0.9384 - val_loss: 0.3089 - val_accuracy: 0.8812\n",
            "Epoch 33/40\n",
            "131/131 [==============================] - 14s 109ms/step - loss: 0.2032 - accuracy: 0.9372 - val_loss: 0.3046 - val_accuracy: 0.8855\n",
            "Epoch 34/40\n",
            "131/131 [==============================] - 14s 107ms/step - loss: 0.1988 - accuracy: 0.9391 - val_loss: 0.3013 - val_accuracy: 0.8942\n",
            "Epoch 35/40\n",
            "131/131 [==============================] - 14s 108ms/step - loss: 0.1959 - accuracy: 0.9411 - val_loss: 0.2992 - val_accuracy: 0.8877\n",
            "Epoch 36/40\n",
            "131/131 [==============================] - 14s 108ms/step - loss: 0.1922 - accuracy: 0.9401 - val_loss: 0.2971 - val_accuracy: 0.8877\n",
            "Epoch 37/40\n",
            "131/131 [==============================] - 14s 109ms/step - loss: 0.1890 - accuracy: 0.9422 - val_loss: 0.2944 - val_accuracy: 0.8920\n",
            "Epoch 38/40\n",
            "131/131 [==============================] - 14s 109ms/step - loss: 0.1856 - accuracy: 0.9427 - val_loss: 0.2925 - val_accuracy: 0.8877\n",
            "Epoch 39/40\n",
            "131/131 [==============================] - 14s 107ms/step - loss: 0.1828 - accuracy: 0.9439 - val_loss: 0.2921 - val_accuracy: 0.8942\n",
            "Epoch 40/40\n",
            "131/131 [==============================] - 14s 107ms/step - loss: 0.1798 - accuracy: 0.9456 - val_loss: 0.2902 - val_accuracy: 0.8920\n"
          ]
        }
      ]
    },
    {
      "cell_type": "code",
      "source": [
        "# Plot loss graph\n",
        "plt.plot(history.history['loss'])\n",
        "plt.plot(history.history['val_loss'])\n",
        "plt.title('Model Loss')\n",
        "plt.ylabel('Loss')\n",
        "plt.xlabel('Epoch')\n",
        "plt.legend(['Train', 'Test'], loc='upper left')\n",
        "plt.savefig('/content/loss.png')\n",
        "plt.show()"
      ],
      "metadata": {
        "colab": {
          "base_uri": "https://localhost:8080/",
          "height": 295
        },
        "id": "uB-8luSw0pAW",
        "outputId": "f47ab6be-720b-4021-8a2e-1e36843a25a0"
      },
      "execution_count": 19,
      "outputs": [
        {
          "output_type": "display_data",
          "data": {
            "text/plain": [
              "<Figure size 432x288 with 1 Axes>"
            ],
            "image/png": "[encoded data removed]"
          },
          "metadata": {
            "needs_background": "light"
          }
        }
      ]
    },
    {
      "cell_type": "code",
      "source": [
        "# Plot Accuracy Graph\n",
        "plt.plot(history.history['accuracy'])\n",
        "plt.plot(history.history['val_accuracy'])\n",
        "plt.title('Model Accuracy')\n",
        "plt.ylabel('Accuracy')\n",
        "plt.xlabel('Epoch')\n",
        "plt.legend(['Train', 'Test'], loc='upper left')\n",
        "plt.savefig('/content/accuracy.png')\n",
        "plt.show()"
      ],
      "metadata": {
        "colab": {
          "base_uri": "https://localhost:8080/",
          "height": 295
        },
        "id": "KIRqXjzX0q0C",
        "outputId": "8a0ba951-1ad9-4198-ffe6-3b98df5d0ae2"
      },
      "execution_count": 20,
      "outputs": [
        {
          "output_type": "display_data",
          "data": {
            "text/plain": [
              "<Figure size 432x288 with 1 Axes>"
            ],
            "image/png": "[encoded data removed]"
          },
          "metadata": {
            "needs_background": "light"
          }
        }
      ]
    },
    {
      "cell_type": "code",
      "metadata": {
        "id": "0Oc0ymjYseMk",
        "colab": {
          "base_uri": "https://localhost:8080/"
        },
        "outputId": "6d2a53cd-6d9f-4e8d-92a2-a3a412b6caf7"
      },
      "source": [
        "# Convert to Tflite model for classification on mobile\n",
        "tf_lite_converter = tf.lite.TFLiteConverter.from_keras_model(model)\n",
        "tflite_model = tf_lite_converter.convert()\n",
        "open(\"/content/fruits.tflite\",\"wb\").write(tflite_model)"
      ],
      "execution_count": 22,
      "outputs": [
        {
          "output_type": "stream",
          "name": "stdout",
          "text": [
            "INFO:tensorflow:Assets written to: /tmp/tmp4bnjdepm/assets\n"
          ]
        },
        {
          "output_type": "stream",
          "name": "stderr",
          "text": [
            "INFO:tensorflow:Assets written to: /tmp/tmp4bnjdepm/assets\n",
            "WARNING:absl:Buffer deduplication procedure will be skipped when flatbuffer library is not properly loaded\n"
          ]
        },
        {
          "output_type": "execute_result",
          "data": {
            "text/plain": [
              "8915716"
            ]
          },
          "metadata": {},
          "execution_count": 22
        }
      ]
    }
  ]
}
